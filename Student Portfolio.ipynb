{
 "cells": [
  {
   "cell_type": "markdown",
   "metadata": {},
   "source": [
    "# Student Portfolio"
   ]
  },
  {
   "cell_type": "code",
   "execution_count": 1,
   "metadata": {},
   "outputs": [
    {
     "name": "stdout",
     "output_type": "stream",
     "text": [
      "Enter name of the student: Vijaya Lakshmi\n",
      "Enter the class: B.Tech\n",
      "Enter the section: C\n",
      "Enter the student RollNo: 17\n",
      "Enter the maths marks: 98\n",
      "Enter the Physics marks: 87\n",
      "Enter the chemistry marks: 84\n",
      "The student details are: \n",
      "\n",
      "Project 1 (Student Portfolio):\n",
      "Name of the student:  Vijaya Lakshmi\n",
      "Class:  B.Tech\n",
      "Section:  C\n",
      "RollNo:  17\n",
      "The student marks are as follows: \n",
      "Maths:  98\n",
      "Physics:  87\n",
      "Chemistry:  84\n",
      "269\n"
     ]
    }
   ],
   "source": [
    "StudentName=input(\"Enter name of the student: \")\n",
    "Class=input(\"Enter the class: \")\n",
    "Section=input(\"Enter the section: \")\n",
    "RollNo=input(\"Enter the student RollNo: \")\n",
    "Maths=input(\"Enter the maths marks: \")\n",
    "Physics=input(\"Enter the Physics marks: \")\n",
    "chemistry=input(\"Enter the chemistry marks: \")\n",
    "print(\"The student details are: \")\n",
    "print(\"\\nProject 1 (Student Portfolio):\")\n",
    "print(\"Name of the student: \",StudentName)\n",
    "print(\"Class: \",Class)\n",
    "print(\"Section: \",Section)\n",
    "print(\"RollNo: \",RollNo)\n",
    "print(\"The student marks are as follows: \")\n",
    "print(\"Maths: \",Maths)\n",
    "print(\"Physics: \",Physics)\n",
    "print(\"Chemistry: \",chemistry)\n",
    "type(Maths)\n",
    "Total=int(Maths)+int(Physics)+int(chemistry)\n",
    "print(Total)"
   ]
  },
  {
   "cell_type": "code",
   "execution_count": null,
   "metadata": {},
   "outputs": [],
   "source": []
  }
 ],
 "metadata": {
  "kernelspec": {
   "display_name": "Python 3",
   "language": "python",
   "name": "python3"
  },
  "language_info": {
   "codemirror_mode": {
    "name": "ipython",
    "version": 3
   },
   "file_extension": ".py",
   "mimetype": "text/x-python",
   "name": "python",
   "nbconvert_exporter": "python",
   "pygments_lexer": "ipython3",
   "version": "3.8.5"
  }
 },
 "nbformat": 4,
 "nbformat_minor": 4
}
